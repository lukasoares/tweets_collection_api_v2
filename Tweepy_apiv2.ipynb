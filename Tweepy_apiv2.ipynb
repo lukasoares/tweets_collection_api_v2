{
  "cells": [
    {
      "cell_type": "markdown",
      "metadata": {
        "id": "6thl7rSVaD98"
      },
      "source": [
        "# <font color=blue size=5>Coletando tweets com a API v2</font>\n",
        "***"
      ]
    },
    {
      "cell_type": "markdown",
      "metadata": {
        "id": "yUysXSEKazX8"
      },
      "source": [
        "#Instalando bibliotecas\n",
        "Para esta coleta vamos utilizar as bibliotecas Tweepy e Pandas.<br>\n",
        "*   Documentação Tweepy : https://docs.tweepy.org/en/stable/\n",
        "*   Documentação Pandas: https://pandas.pydata.org/docs/index.html\n",
        "\n"
      ]
    },
    {
      "cell_type": "code",
      "execution_count": null,
      "metadata": {
        "id": "gxHofj0GZ6bJ"
      },
      "outputs": [],
      "source": [
        "!pip install tweepy \n",
        "!pip install pandas"
      ]
    },
    {
      "cell_type": "markdown",
      "metadata": {
        "id": "-ogZFQeUdX5a"
      },
      "source": [
        "#Importanto as bibliotecas"
      ]
    },
    {
      "cell_type": "code",
      "execution_count": 2,
      "metadata": {
        "id": "Uiy3t6IfdWec"
      },
      "outputs": [],
      "source": [
        "import tweepy as tw\n",
        "import pandas as pd"
      ]
    },
    {
      "cell_type": "markdown",
      "metadata": {
        "id": "14D9VlNrd3gC"
      },
      "source": [
        "#Verificando as versões\n",
        "É importante verificar a versão que esta sendo executada pois é possível que ocorram erros ao usar algumas funcionalidades. No meu caso foi necessário fazer um update do tweepy, pois estava ocorrendo um erro na classe 'Cliente' que utilizaremos logo em seguida."
      ]
    },
    {
      "cell_type": "code",
      "execution_count": null,
      "metadata": {
        "id": "58k2sG-LeeQw"
      },
      "outputs": [],
      "source": [
        "!pip install tweepy==4.5.0 --upgrade #Necessário somente se ocorrer erro"
      ]
    },
    {
      "cell_type": "code",
      "execution_count": 3,
      "metadata": {
        "colab": {
          "base_uri": "https://localhost:8080/"
        },
        "id": "SHIjoq4ZfFEU",
        "outputId": "bf453fcd-0d26-4293-db28-0006d4365aac"
      },
      "outputs": [
        {
          "name": "stdout",
          "output_type": "stream",
          "text": [
            "Versão do tweepy: 4.5.0\n",
            "Versão do pandas: 1.3.5\n"
          ]
        }
      ],
      "source": [
        "print(f'Versão do tweepy: {tw.__version__}')\n",
        "print(f'Versão do pandas: {pd.__version__}')"
      ]
    },
    {
      "cell_type": "markdown",
      "metadata": {
        "id": "ZA2ms2MHfVga"
      },
      "source": [
        "#Utilizando as chaves de acesso\n",
        "Na API V1 é necessário fazer a autenticação do usuário utilizando as chaves de acesso para que ocorra a conexão com o servidor do Twitter. E na API 2.0 não é diferente. Como se tratam de dados sensíveis, uma das maneiras que podemos utilizar as chaves e manter a privacidade é abrindo um arquivo .txt utilizando a função 'open()'. Nesse arquivo estão contidas todas as chaves e o Python fara a leitura desses dados, sem expô-los. "
      ]
    },
    {
      "cell_type": "code",
      "execution_count": 80,
      "metadata": {
        "id": "aly_eHYugUnj"
      },
      "outputs": [],
      "source": [
        "with open('twitter-chaves.txt', 'r') as tchaves:\n",
        "  consumer_key = tchaves.readline().strip('\\n')\n",
        "  consumer_secret_key = tchaves.readline().strip('\\n')\n",
        "  bearer_token = tchaves.readline().strip('\\n')\n",
        "  access_token = tchaves.readline().strip('\\n')\n",
        "  access_token_secret = tchaves.readline().strip('\\n')"
      ]
    },
    {
      "cell_type": "markdown",
      "metadata": {
        "id": "3NMeqieEouHT"
      },
      "source": [
        "Na versão da API V2 a classe 'tweepy.Client' funciona de maneira semelhante a 'tweepy.API' da API V1."
      ]
    },
    {
      "cell_type": "markdown",
      "metadata": {
        "id": "CQXvfwTRq5WS"
      },
      "source": [
        "![Screenshot_10.png](data:image/png;base64,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)"
      ]
    },
    {
      "cell_type": "markdown",
      "metadata": {
        "id": "KL7YOAz_rce6"
      },
      "source": [
        "API V2:"
      ]
    },
    {
      "cell_type": "code",
      "execution_count": 81,
      "metadata": {
        "id": "MMSs5eyTlOPK"
      },
      "outputs": [],
      "source": [
        "client = tw.Client(bearer_token= bearer_token, consumer_key = consumer_key, consumer_secret= consumer_secret_key, access_token= access_token, access_token_secret = access_token_secret,wait_on_rate_limit=True)"
      ]
    },
    {
      "cell_type": "markdown",
      "metadata": {
        "id": "5-ttzzZksIsD"
      },
      "source": [
        "#Coletando tweets utilizando uma query\n",
        "Agora que temos a autenticação estabelecida, podemos iniciar a coleta de dados. O método que vamos utilizar aqui é o 'client.search_recent_tweets' que pesquisa pelo termo desejado com uma coleta máxima de 100 tweets por vez. O termo utilizado foi \"#Eleição\".\n",
        "Para outros métodos, como 'Client.get_users_following' que coleta os perfils que um determinado perfil segue, é recomendável procurar na documentação o método desejável:\n",
        "https://docs.tweepy.org/en/stable/"
      ]
    },
    {
      "cell_type": "code",
      "execution_count": 83,
      "metadata": {
        "id": "On5b5hZMsYLK"
      },
      "outputs": [],
      "source": [
        "response = client.search_recent_tweets(query = \"#Eleição -is:retweet\" ,tweet_fields = ['created_at'], expansions = ['author_id'],\n",
        "                                       user_fields = ['location'], max_results = 100)\n",
        "# utizamos -is:retweet para que a nossa coleta nao retorne retweets"
      ]
    },
    {
      "cell_type": "markdown",
      "metadata": {
        "id": "PLw-vAQWwMBy"
      },
      "source": [
        "Por predefinição as informações dos tweets coletados contém o id da postagem e o campo de texto. Para adquirir as outras informações que queremos é necessário especificar por meio de 'fields' ou pelo argumento 'expansions'. Nesse exemplo vamos adicioar a data de criação da postagem ('tweet_fields = ['created_at']), localização do usuário (user_fields = ['location']), o id do usuário ['author_id'] com um resultado de 100 tweets por pesquisa ('max_results = 100').\n",
        "A coleta pode ser personalizada de inúmeras formas e para mais informações sobre os 'fields' segue o link:\n",
        "https://developer.twitter.com/en/docs/twitter-api/fields"
      ]
    },
    {
      "cell_type": "code",
      "execution_count": 84,
      "metadata": {
        "colab": {
          "base_uri": "https://localhost:8080/"
        },
        "id": "Ac1gRpzSCPjO",
        "outputId": "a77a471e-d91a-4ade-db12-a331ca8599ec"
      },
      "outputs": [
        {
          "data": {
            "text/plain": [
              "Response(data=[<Tweet id=1575535277984124928 text=#eleicao #pec32 #Lula #bozo #Ciro #Gremio #Internacional #brasileirao https://t.co/RA6YKJijE4>, <Tweet id=1575534679763165185 text=👏🚌 São Leopoldo terá passe livre no transporte público no domingo de eleição\n",
              "\n",
              "Veja a matéria completa:\n",
              "https://t.co/CGJlg5rlog\n",
              "\n",
              "#prefasaoleo #votação #eleição #passelivre #euamosaoleo #construindoumacidademelhor https://t.co/QIFT0EoZgD>, <Tweet id=1575533285371162625 text=#Eleição Em 100% das enquetes que vi aqui no Twitter, sendo a maioria criada por perfis de esquerda, Bolsonaro vence em TODAS. Quero testar aqui lançando essa enquete. Não tenho seguidores para influenciar nos resultados, vai ser baseado no seu RT. \n",
              "\n",
              "VOTE NA ENQUETE PRESIDENCIAL:>, <Tweet id=1575532859280035840 text=Delegados da PF denunciam Moraes por abuso de autoridade\n",
              "https://t.co/qEdqN3GeWP\n",
              "\n",
              "Delegados aposentados da Polícia Federal (PF) enviaram ao procurador-geral da república, Augusto Aras, uma notícia-crime em que pedem a abertura de uma investigação contra o ministro. \n",
              "\n",
              "#eleição https://t.co/G6jqybIZi2>, <Tweet id=1575531775874531330 text=#tbt lindo e transparente, pra deixar claro que não tenho lado hahahahah.\n",
              "\n",
              "#todospelademocracia #democracia #eleição\n",
              "https://t.co/77fKQ80Eli>, <Tweet id=1575530746827231232 text=Está chegando a eleição e vou fazer uma pesquisa de boca de urna.\n",
              "Se você for #BolsonaroNoPrimeiroTurno faz um pix de R$ 22.\n",
              "Se você for #LulaNo1ºTurno Faz um pix de R$ 13.\n",
              "Não precisa mandar comprovante pois o voto é secreto.😁\n",
              "#eleicao>, <Tweet id=1575529744673738762 text=Votos em branco e nulos são computados na #eleição?\n",
              "\n",
              "O professor Clever Vasconcelos te explica nesse video.\n",
              "\n",
              "#eleições2022 #damásio https://t.co/4fZnz3F1SN>, <Tweet id=1575527320890253312 text=Os candidatos ao Governo do Amazonas, Amazonino Mendes (Cidadania) e Wilson Lima (UB) não foram ao debate promovido pela TV Norte. \n",
              "\n",
              "Imagem: TV NORTE.\n",
              "\n",
              "#OPoder #eleições2022 #eleição #amazonas #tvnorte #governo #debate https://t.co/sWSpqeG5Jr>, <Tweet id=1575527092409843716 text=“Sociedade está interessada na #eleição, mas quando a bola rola, o #futebol domina as redes”, afirma Guto Graça: https://t.co/zyZ00r9R3j>, <Tweet id=1575526491105935361 text=Amazonino Mendes (Cidadania) e Wilson Lima (UB) não compareceram ao conflito. \n",
              "\n",
              "Imagem: TV NORTE.\n",
              "\n",
              "#OPoder #eleições2022 #eleição #amazonas #tvnorte #governo #debate>, <Tweet id=1575525594997071873 text=\"☝️Perguntinha das #Criança👫 pro #Debate da #Eleição🗳️ na @globo📺 \n",
              "Quem é o Político mais Corrupto do Brasil🇧🇷🩸?! /🗳️🐢 \n",
              "🙃 \n",
              "#Eleições2022 \n",
              "@TSEjusbr @cirogomes @jairbolsonaro @simonetebetbr @SorayaThronicke @tvglobo @GloboNews @jornalnacional @showdavida @fabiofaria>, <Tweet id=1575525283381202947 text=📢 SE LIGA: O \"Fala aí, Candidato\" de hoje recebe a vereadora de Itajaí e candidata ao Senado, Hilda Deola (PDT). Acessando https://t.co/sc3R9t49BS você lê a matéria.\n",
              "\n",
              "#tonodiarinho #diarinho #eleiçao #santacatarina #senado #senadora #política #itajai https://t.co/EkKg7kyNzZ>, <Tweet id=1575520538700943360 text=💬 Além de convocar os aprovados nos concursos que Wilson realiza na área de segurança pública, para mais de 2.500 vagas, ele vai realizar um novo certame para a Polícia Militar em 2023.  \n",
              "\n",
              "#OPoder #amazonas #eleições2022 #eleição \n",
              "\n",
              "https://t.co/zIcIENru01>, <Tweet id=1575518764753424387 text=🌐 Eleições 2022: conheça os 4 aplicativos da Justiça Eleitoral para auxiliar o eleitor em todas as fases https://t.co/KCjluG6tKx\n",
              "\n",
              "#eleições #eleições2022 #eleição #eleitor #pleito #TSE #JustiçaEleitoral #MPEleitoral #app #aplicativo #Android #iOS #celular #smartphone https://t.co/nVZzAeOp4w>, <Tweet id=1575516518581821440 text=No momento do incidente, a câmera estava direcionada ao candidato que assustou com a queda e correu para socorrer a apresentadora.\n",
              "\n",
              " O jornalista Igor Maciel vai assumir a transmissão.\n",
              "\n",
              "#eleição #debate #TV #pernambuco #brasil>, <Tweet id=1575514376412487685 text=💬 Conforme vídeo divulgado nas redes sociais, os produtos seriam usados para compra de votos em comunidades cortadas pelo rio Urariá, no interior do Amazonas. \n",
              "\n",
              "#OPoder #compartilhe #amazonas #eleições2022 #eleição \n",
              "\n",
              "https://t.co/gcCKYc4rpw>, <Tweet id=1575511644435845123 text=ZÉ FELIPE CANCELA SHOWS POR FALTA DE LOTAÇÃO? CANTOR FAZ DESABAFO https://t.co/RUGDWZG6vz via @YouTube #RobsDay #luladay #LulaNaGlobo #BolsonaroNoPrimeiroTurno #LOUDWIN #hayley #diarra #Josué #Shuhua #Experiente #Nubank #McEua #Limão #yoon #bighit #McFlurry #forró #eleição #br>, <Tweet id=1575502446285029377 text=Vamos deixar de ser o País do futebol para ser o país mais burro que aceita a corrupção! O mundo todo vai nos enxergar dessa forma! \n",
              "\n",
              "#Eleicao2022 #eleiçao>, <Tweet id=1575495427704909827 text=“Complicado imaginar algo de muito diferente na reta final da #eleição”, diz Eduardo Barão: https://t.co/N3H0VwQWSV>, <Tweet id=1575495143020384257 text=Minha colinha pro dia da #eleição: \n",
              "\n",
              "✅️ Dep. Federal: 5070 @ErikakHilton \n",
              "✅️ Dep. Estadual: 50900 @MonicaSeixas \n",
              "✅️ Senador: 400 @marciofrancasp \n",
              "✅️ Governador: 13 @Haddad_Fernando \n",
              "✅️ Presidente: 13 @LulaOficial>, <Tweet id=1575489232004521986 text=💬 O Portal O Poder esteve no Porto de Manaus e constatou que o movimento ainda é fraco em relação a outros anos eleitorais. Pode ser que o fluxo se intensifique no fim de semana. \n",
              "\n",
              "#OPoder #compartilhe #amazonas #eleições2022 #eleição \n",
              "\n",
              "https://t.co/cKUolsXW3F>, <Tweet id=1575487014832852997 text=No final todos tem o mesmo interesse deus nos livre de mais uma #eleição #naoconfieempolitico https://t.co/nW0OU5I0OF>, <Tweet id=1575484748050227203 text=💬 Nesta reta final de campanha eleitoral, os candidatos tentam as últimas estratégias para convencer os eleitores, principalmente os indecisos a votarem no pleito deste ano.  \n",
              "\n",
              "#OPoder #compartilhe #brasil #eleições2022 #eleição \n",
              "\n",
              "https://t.co/F8KMzxxojM>, <Tweet id=1575483766046236673 text=💬 Para Teresa, a prioridade é cuidar das pessoas tanto da capital como do interior. \n",
              "\n",
              "#OPoder #compartilhe #roraima #eleições2022 #eleição \n",
              "https://t.co/bvyDCcFziK>, <Tweet id=1575480029672140802 text=Com a plataforma das melhores lideranças políticas, os candidatos possuem sua estratégia utilizando dados georreferenciados! Seja uma, venha para https://t.co/aGALrBIB9J.\n",
              "\n",
              "#eleições #eleição #voto #eleições2022 https://t.co/012lo7czTF>, <Tweet id=1575478225211629569 text=#fy #foryou #foryoupage #lula2022 #bolsonaro2022 #politica #deus #lula #bolsonaro #eleiçao #gay #lgbtqia #luz #bomdia #boanoite #boatarde #fe #palavradedeus #palavra #conservador #eleicoes2022 #vida #morte #violencia #amor #carinho #hit #lindo #lindos #bonito #bonita #gato https://t.co/X4SkF8UjTu>, <Tweet id=1575476972263653383 text=🎉 Ofertas Imperdíveis 🎉\n",
              "⭐ FEITO AQUARELA ⭐\n",
              "\n",
              "#ofertas #encartes #torneiras #torneira #qrofertas #reparos #casa #lardocelar #feitoaquarela #capaoraso #curitiba #parana #brasil #santacatarina #riograndedosul #saopaulo #plantao190 #bandab #gazetadopovo #tribunadopr #eleição https://t.co/Mi11kpZk0H>, <Tweet id=1575474493602279424 text=Gente, o que vocês acham do André Ceciliano? Têm opiniões formadas sobre como seria ele no Senado? #eleição #senadofederal>, <Tweet id=1575472792803459074 text=No veículo, o investigado lambe o cano de uma arma e depois é filmado na rua dizendo que \"ordena\" ao presidente Jair Bolsonaro (PL) que dê um golpe após \"colocar a faixa de vencedor das eleições\".\n",
              "\n",
              "Via: UOL.  \n",
              "\n",
              "#OPoder #eleições2022 #eleição #jairbolsonaro #bolsonaro>, <Tweet id=1575472156988801024 text=💬 Jair Bolsonaro (PL) não desiste com a ideia de tumultuar as próximas eleições. \n",
              "\n",
              "#OPoder #compartilhe #brasil #eleições2022 #eleição \n",
              "\n",
              "https://t.co/MO9Fw0L23I>, <Tweet id=1575470412535926784 text=FALTAM 03 DIAS - Estamos na reta final! Precisamos espalhar o 1042 com toda força. Contamos com o seu apoio.\n",
              "\n",
              "Vote Maria Emília VOSS! Vote 1042!\n",
              "#FéPraTransformar #Deus #Eleições #eleição #eleição2022 #Jesus #Cristão #Fé #God #ReinodeDeus #deputadofederal #adoração #vida #bíblia https://t.co/nrTFNm1VA5>, <Tweet id=1575469847273676800 text=O presidente Jair Bolsonaro (PL) participou, na tarde desta quarta-feira (28/9), de uma motociata em Santos, no estado de São Paulo. Nem as condições climáticas impediram que Bolsonaro realizasse o tradicional passeio de moto.\n",
              "\n",
              "Via: Metrópoles.  \n",
              "\n",
              "#OPoder #eleições2022 #eleição https://t.co/YQuSjZETRK>, <Tweet id=1575466974632722432 text=#eleições2022 #eleição #jairbolsonaro #bolsonaro #michellebolsonaro #neymarjr>, <Tweet id=1575464620827054082 text=Candidato à reeleição, presidente fez comício no litoral paulista nesta quarta-feira (28).\n",
              "\n",
              "Via: Metrópoles. \n",
              "\n",
              "#OPoder #eleições2022 #eleição #jairbolsonaro #bolsonaro #brasil #lula #alckmin #sp https://t.co/WlYXyBCs7m>, <Tweet id=1575454919364050956 text=Eleições 2022: solicitou voto em trânsito? Artigo do site TechTudo explica como consultar locais de voto no site do TSE: https://t.co/I0V1AopPtz\n",
              "\n",
              "#eleicao #voto #transtito #tse #consulta #local #seguro #votacao https://t.co/iPwywSK8jM>, <Tweet id=1575454498897772544 text=💬 Na manhã de hoje, 29, a Polícia Federal deflagrou uma operação para investigar suspeitas sobre o funcionamento de um esquema para a compra de votos. \n",
              "\n",
              "#OPoder #compartilhe #roraima #eleições2022 #eleição \n",
              "https://t.co/HvOlnAi8vy>, <Tweet id=1575453772188459008 text=💬 A candidata é alvo de ataques por parte do adversário, governador e candidato à reeleição Antonio Denarium (PP).\n",
              "\n",
              "#OPoder #compartilhe #roraima #eleições2022 #eleição \n",
              "\n",
              "https://t.co/RzYrf9L8Xw>, <Tweet id=1575453426397364227 text=Eleições 2022: solicitou voto em trânsito? Artigo do site TechTudo explica como consultar locais de voto no site do TSE: https://t.co/AnrpGFfDcK\n",
              "\n",
              "#eleicao #voto #transtito #tse #consulta #local #seguro #votacao https://t.co/qOsOV3jGP0>, <Tweet id=1575453168292724736 text=💬 A ação ocorreu depois que o banco informou que não há saldo na conta do empresário.\n",
              "\n",
              "#OPoder #compartilhe #roraima #eleições2022 #eleição \n",
              "\n",
              "https://t.co/mcj82VzMSO>, <Tweet id=1575453162546364422 text=Eleições 2022: solicitou voto em trânsito? Artigo do site TechTudo explica como consultar locais de voto no site do TSE: https://t.co/ufS1ApilAC\n",
              "\n",
              "#eleicao #voto #transtito #tse #consulta #local #seguro #votacao https://t.co/l8EafcHTf0>, <Tweet id=1575448190471606275 text=Três dessas 23 urnas de seções sorteadas para auditoria serão auditadas, publicamente, na própria seção eleitoral, a partir das 7h da manhã do domingo  https://t.co/Ii3U3vzkNy #eleicao #auditadas #urnas #sorteia #tre #piaui>, <Tweet id=1575438798623744005 text=Prelúdio para um #coup.\n",
              "\n",
              "Quando um presidente em exercício diz que o governo, que ele mesmo lidera, pode alterar os #balotes, é um sinal claro de que\n",
              "a) ele sabe que vai perder\n",
              "b) ele planeja ficar, independentemente de perder\n",
              "\n",
              "#Brazil\n",
              "#Bolsonaro\n",
              "#eleição\n",
              "https://t.co/AvyWbtolzB>, <Tweet id=1575424753355177984 text=Quem você quer que fique em A Fazenda?\n",
              ".\n",
              ".\n",
              "#votalhada #votalção #votacao #enquete #enqueteafazenda #eleicao #eleição2022 #votounico #reality #rocaafazenda #afazenda14 #ficadeborah #ficaingrid #ficarosiane #foradeborah #foraingrid #ForaRosiane>, <Tweet id=1575393637491478528 text=Precisamos ampliar e efetivar a Central de Intermediação em Libras (CIL) pelo estado de São Paulo. A comunicação é um direito de todos e deve ser garantida em sua plenitude.\n",
              "\n",
              "Não existe democracia sem #inclusão !\n",
              "\n",
              "#Libras #eleição #eleições #eleicao2022 #eleicoes2022 #candidatos https://t.co/w23wdnqaTj>, <Tweet id=1575368067881861122 text=#FakeNews - quem fez a #Biometria não precisa assinar e o #Comprovante está #Disponível no site do TSE \n",
              "https://t.co/qvXOfjIOsx - \n",
              "RT @BbtoFns - #Eleição #LulaPresidente2022 #LulaNoPrimeiroTurno  ->, <Tweet id=1575357220744732673 text=Embargo várias empresas indevidamente e quer falar de emprego? Fala sério! A construção civil parou neste país. #Politica\n",
              "#Brasil #eleicao  #LulaNoPrimeiroTurno https://t.co/auDqSqqf1Y>, <Tweet id=1575328245423169538 text=OFF: #Eleicoes2022 #vermelho #estrela #EleNao #elenão #eleicao #eleicoes #presidente #brasil \n",
              "\n",
              "🇧🇷 🦑 🌠 👍🏻 https://t.co/O7HzECpI9T>, <Tweet id=1575311397893849088 text=#Atenção #Patriotas!!\n",
              "Importante lembrar das #MUDANÇAS nas maquininhas do TSE para #ELEIÇÃO 2022.\n",
              "#RETUITEM https://t.co/1IDYlYeCwl>, <Tweet id=1575307907008176129 text=A história vai se repetir!!! 🇧🇷🇧🇷🇧🇷😂😂😂 com pesquisas mentirosas!!! Só que dessa vez vai ser @jairbolsonaro no primeiro turno! Quem crê? #Eleicao2022 #Eleicoes2022 #Eleicoes2022opovo #eleição https://t.co/Xfr3BrW3vA>, <Tweet id=1575304528898965504 text=Boa noite \n",
              "Domingo é logo ali\n",
              "\n",
              "#eleição \n",
              "#Eleicao2022 \n",
              "#eleicoes https://t.co/O7P5yZOgXz>, <Tweet id=1575298713576169479 text=Ativando os neurônios de alguns coleguinhas que querem tapar o sol com peneira. Vamos relembrando uma época abominável do PT e seus pt-dependentes, vigiados em plena corrupção! E o Loolala ainda quer voltar… imaginem só isso! “Inocentado” os meus ovos! #pt #corrupcao #eleicao https://t.co/EynyukOrpJ>, <Tweet id=1575294637497090049 text=#Eleicoes2022 #brasil #eleicao #UrnasEletronicas #VOTO #BrasilTV #SaoPaulo #minasgerais #bocaraton #Florida #brasileirosnoseua #miami #parkland #PompanoBeach     https://t.co/oPBwMyhpBQ>, <Tweet id=1575289757403267073 text=RS: Disputa acirrada ao Senado\n",
              "https://t.co/gBzciQ7i2s\n",
              "\n",
              "O clima esquentou na disputa ao Senado no RS. Hamilton Mourão (PL), que lidera as pesquisas, e Ana Amélia Lemos (PSD), que aparece em terceiro lugar, trocam acusações na propaganda eleitoral.\n",
              "\n",
              "#eleições2022 #eleição https://t.co/3RuFsqviCp>, <Tweet id=1575283019832852480 text=Acessando https://t.co/sc3R9sMyKk você lê a matéria.\n",
              "\n",
              "#tonodiarinho #diarinho #eleiçao #santacatarina #deputado #federal #política #itajai>, <Tweet id=1575277929231097856 text=SC: Eleição indefinida para o Segundo Turno\n",
              "https://t.co/t9jJmh7kGR\n",
              "\n",
              "Em Santa Catarina, as pesquisas indicam claramente que haverá Segundo Turno. Em algumas Carlos Moisés (REP) lidera, em outras Jorginho Mello (PL). \n",
              "\n",
              "#eleições2022 #eleição #campanhaeleitoral #campanhapolitica https://t.co/4LfnTF5sDg>, <Tweet id=1575275664332070913 text=Eleição no RS: empate técnico para presidência\n",
              "https://t.co/8SEgLX1V5m\n",
              "\n",
              "A pesquisa IPEC, encomendada pela RBS traz dados da corrida eleitoral no Rio Grande do Sul. Para presidente, no Estado, o levantamento aponta empate técnico entre Lula  e Bolsonaro.\n",
              " \n",
              "#eleições2022 #eleição https://t.co/2MoTcwdWR5>, <Tweet id=1575257997017751552 text=Minha Colinha já está pronta e a de vcs ?                                                                        #marcelofreixo   #beyhive #lula #forabolsonaro #lula13 #presidente #eleicoes #eleicao #eleicao2022 #lulapresidente #forabozo #beyonce #rennaissance https://t.co/nQUGoPTvNN>, <Tweet id=1575251046678597632 text=Gente?! 😳 Esse foi o clima do debate promovido pela NSC TV, afiliada da Rede Globo, entre candidatos ao governo de Santa Catarina.\n",
              "\n",
              "#OPoder #eleições2022 #eleição #debate #SC #debatenoSC #brasil https://t.co/iC5fEyEljV>, <Tweet id=1575237869765070859 text=#eleicao #aplicativo #boletim #mao https://t.co/UZkuhmfRxi>, <Tweet id=1575219934300229632 text=Acessando https://t.co/sc3R9t49BS você lê a matéria.\n",
              "\n",
              "#tonodiarinho #diarinho #eleiçao #santacatarina #deputado #estadual #política #itajai>, <Tweet id=1575211185393532928 text=Polícia Federal ocupa o Aeroclube, para evitar saída de aeronaves levando dinheiro para eleição no interior\n",
              "\n",
              "Leia mais no #BlogDoHielLevy  https://t.co/OfzFRFKzvR\n",
              "\n",
              "#Aeroclube #PolíciaFederal #dinheiro #interiorAM #eleição #eleições2022 #eleiçõesAM>, <Tweet id=1575207865601572864 text=Bora meu povo fazer uma enquete para presidente 2022 #Enquete #enquetepresidencial #Eleicao2022 #eleicao #Bolsonaro #lula #CiroGomes>, <Tweet id=1575207809343696897 text=💬 Ambos prestaram solidariedade às famílias que estão em busca de desaparecidos.\n",
              "\n",
              "#OPoder #compartilhe #amazonas #eleições2022 #eleição \n",
              "\n",
              "https://t.co/QnqPIPSQZF>, <Tweet id=1575207248615608326 text=💬 A informação foi compartilhada nas redes sociais pelos dois candidatos do MDB, Teresa Surita e Romero Jucá. \n",
              "\n",
              "#OPoder #compartilhe #roraima #eleições2022 #eleição \n",
              "\n",
              "https://t.co/G0uUJ7Tk4N>, <Tweet id=1575206450430779392 text=Boa leitura de mundo! \n",
              "\n",
              "#PraTodosVerem\n",
              "#Eleição\n",
              "#Democracia\n",
              "#DireitosFundamentais\n",
              "#DeP2022\n",
              "#RevistaDireitoePraxis\n",
              "#OpenAccess\n",
              "#Uerj\n",
              "#PortaldePublicacoesUerj\n",
              "#Direito\n",
              "#TeoriasCriticasdoDireito\n",
              "#SciELO\n",
              "#QualisA1>, <Tweet id=1575205805602705408 text=Juiz proíbe venda de bebidas alcoólicas a partir das 23h da véspera de eleição em Teixeira #bebida #eleição https://t.co/YAhCPQzeKA>, <Tweet id=1575198439557808202 text=Pelo menos oito estados anunciaram que vão restringir a venda de bebidas alcoólicas no dia das eleições para evitar perturbações durante a votação. Nestes estados, a Lei Seca vai valer para o próximo domingo (2),  #Eleição #primanews #resumodaimprensa\n",
              "\n",
              "https://t.co/NypZv48yHU https://t.co/8QWDii2Dyl>, <Tweet id=1575195279716130816 text=Eleições chegando e bora mudar o rumo dessa história, bora de 1° turno👆 minha gente \n",
              "#Eleição>, <Tweet id=1575194099405430785 text=Hackers miram setores críticos às vésperas das eleições no Brasil\n",
              "\n",
              "#ciberseguranca #eleicao #hackers\n",
              "\n",
              "https://t.co/s0pHCWYvvk>, <Tweet id=1575193829824528385 text=Aos profissionais analistas de política que durante 2 meses discutiram e analisaram pesquisas que deram o mesmo resultado\n",
              "\n",
              "Parabéns, tirar leite de pedra é difícil\n",
              "\n",
              "Virada? Talvez a 4ª chegue bem perto do 2º. \n",
              "Resto? provável que tudo igual\n",
              "#Eleições2022 #eleições #eleição>, <Tweet id=1575191000380645376 text=Fulano a 2 dias de um debate, a 4 dias do dia da eleição, precisando só de mais 2% de votos para faturar já no 1º fala besteira que municia adversário e afasta eleitor\n",
              "\n",
              "Ô meu, fale só de política social que Tu sabe bem que fatura fácil no domingo\n",
              "#Eleições2022 #eleições #eleição>, <Tweet id=1575185769282424832 text=Independente do resultado da #eleição, você vai mudar ou seguirá adotando os mesmos comportamentos nocivos incentivados há 15 anos, ou mais?\n",
              "\n",
              "Uma eventual melhora precisa partir de todos, e é essencial que todos mudemos também.\n",
              "\n",
              "#Eleições2022 #Eleições #Apuração2022 #Apuração https://t.co/6uX6S1x7Yl>, <Tweet id=1575179865376010243 text=O presidente Jair Bolsonaro cortou verbas destinadas a investimentos públicos para reservar R$ 19,4 bilhões em emendas do orçamento secreto no ano que vem. Na prática, a decisão forçou o corte de outras despesas essenciais. \n",
              "\n",
              "#orçamento #dividapublica #eleição #dívidassociais https://t.co/tXq9ortMi5>, <Tweet id=1575177904920862720 text=💬 Até o momento, quatro mortes foram confirmadas e 19 estão desaparecidas, de acordo com o Departamento de Polícia Técnico Científica. \n",
              "\n",
              "#OPoder #compartilhe #amazonas #eleições2022 #eleição \n",
              "https://t.co/8VXQ3alWyG>, <Tweet id=1575177886901817345 text=Na Carta Aberta aos candidatos, o Conselho ressalta que a Saúde é um direito constitucional e que a assistência deve ser integral e acessível a todos.\n",
              "\n",
              "Leia na íntegra em nosso site!\n",
              "\n",
              "#eleições2022 #eleição #votoconsciente #vote #cidadão #farmacêuticosmineiros>, <Tweet id=1575172732433534977 text=💬 Ao tentar intimidar o governador durante o debate na Rede Amazônica, na noite dessa terça-feira, 27, Eduardo Braga (MDB) viu seu passado vir à tona. \n",
              "\n",
              "#OPoder #compartilhe #amazonas #eleições2022 #eleição \n",
              "\n",
              "https://t.co/HIUTMMbznr>, <Tweet id=1575169906756456448 text=A matéria completa está disponível em https://t.co/sc3R9sN6zS ou na página 5 da edição impressa desta quarta-feira. Boa leitura!\n",
              "\n",
              "#tonodiarinho #diarinho #santacatarina #governo #eleiçao #candidatos #pesquisa #voto #votaçao>, <Tweet id=1575169277929615360 text=Temos que VOTAR no CIRO? #Ciro #Gomes #Eleição #Lula #Bolsonaro #Politica #Direita #Liberal #Opinião https://t.co/1nOa2qj0Cu>, <Tweet id=1575169048689537026 text=TCU fará nova etapa de auditoria das urnas no dia da eleição #eleição #TCU #urnas https://t.co/imdi2p2xft>, <Tweet id=1575169004154617859 text=Eleições 2022: como e onde justificar o voto https://t.co/LBekWeWYXB #ficadica #eleicao>, <Tweet id=1575168660431577088 text=#DiretoAoVoto | #Eleições2022: Entidade quer proibir uso de camisa da seleção brasileira por mesários na #eleição.\n",
              "https://t.co/2nn6iYXEo8>, <Tweet id=1575167707787694081 text=💬 A matéria foi publicada no Diário Oficial Eletrônico (DOE) da última segunda-feira, 26.\n",
              "\n",
              "#OPoder #compartilhe #amazonas #eleições2022 #eleição \n",
              "https://t.co/S1Oabc3zHS>, <Tweet id=1575157445738971136 text=#evangelho #política #eleição #BolsonaroReeleitoEm2022 #Bolsonaro2022 #brasil #igreja #Familia https://t.co/77LDGJAeTR>, <Tweet id=1575154236769243137 text=Acesse o site https://t.co/xN9lqBDsjj e escolha melhor seu representante. Neste site você já tem um filtro super importante. Todo político deve ser fiscalizado e cobrado após eleito e jamais deve ser idolatrado. #Eleicao https://t.co/REX1RS02AE>, <Tweet id=1575152968160391168 text=😊COPO PARA MILK SHAKE 300 ML CONJ. 2 UNID.😊\n",
              "\n",
              "#sobremesa #milkshake #sobremesas #taça #taçadesobremesa #almoço #conjuntodesobremesa #taças #cozinha #love #utilidades #casa #ap #feitoaquarela #curitiba #capaoraso #mesaposta #plantao190 #bandab #gazetadopovo #tribunadopr #eleição https://t.co/dm0i3W8lsW>, <Tweet id=1575152572029190145 text=Venha participar do caça-palavras da inclusão! Qual palavra você vê primeiro? Escreve aqui nos comentários 📲\n",
              "\n",
              "#caçapalavras #votefederal4011 #vote4011 #eleição #eleições #eleicao2022 #eleicoes2022 #candidatos #candidatas #acessibilidade #inclusão #democracia #voteconsciente https://t.co/ZMruuPOcYU>, <Tweet id=1575151623751565312 text=Eu estava assistindo o #DebateNoSBT e não resisti. Lembrei que o Bolsonaro é igualzinho ao pai dele (em todos os sentidos!). Fiz uma montagem com fotos deles para notarem a semelhança. #Bolsonaro #eleicoes #Eleicoes2022opovo #eleicao #LulaNo1ºTurno https://t.co/Hg77f06Tve>, <Tweet id=1575147482752995329 text=Obrigada Volta redonda, Minha Terra Querida.\n",
              "\n",
              "Vote Maria Emília VOSS! Vote 1042!\n",
              "\n",
              "Curta\n",
              "Comente\n",
              "Compartilhe\n",
              "Ative as notificações\n",
              "#FéPraTransformar #Deus #Eleições #eleição #eleição2022 #Jesus #Cristão #Fé #God #ReinodeDeus #deputadofederal #adoração #vida #bíblia #motivação https://t.co/sATKKuVr4m>, <Tweet id=1575147370861531136 text=Gente como a gente! Vote 02 de outubro 1042! Obrigada Nova Iguaçu! 😘\n",
              "\n",
              "Vote Maria Emília VOSS! Vote 1042!\n",
              "\n",
              "Curta\n",
              "Comente\n",
              "Compartilhe\n",
              "Ative as notificações\n",
              "#FéPraTransformar #Deus #Eleições #eleição #eleição2022 #Jesus #Cristão #Fé #God #ReinodeDeus #deputadofederal #adoração https://t.co/N9JNDvgb8C>, <Tweet id=1575146476665282562 text=#candidataadeputadafederal #deputadafederalminas #deputadafedeal #deputada #eleição #voto #brasil #política #campanha #democracia #opiniaopublica #midia #renovação #deputado #apoio #saude #educação #deputadofederalporminas #candidatoadeputado https://t.co/Myz9HMl9of>, <Tweet id=1575146392695308290 text=#candidataadeputadafederal #deputadafederalminas #deputadafedeal #deputada #eleição #voto #brasil #política #campanha #democracia #opiniaopublica #midia #renovação #deputado #apoio #saude #educação #deputadofederalporminas #candidatoadeputado https://t.co/mkDPGYoZ6F>, <Tweet id=1575146250936139777 text=#candidataadeputadafederal #deputadafederalminas #deputadafedeal #deputada #eleição #voto #brasil #política #campanha #democracia #opiniaopublica #midia #renovação #deputado #apoio #saude #educação #deputadofederalporminas #candidatoadeputado https://t.co/HN8OZzFbPZ>, <Tweet id=1575141873043341313 text=Desde o começo sendo articulado para o Lula ser solto e concorrer as eleições mas obviamente já para ele ganhar tudo sendo armado. Proibiram tudo do Bolsonaro, lives, fotos, tudo mesmo. Gente até quando vamos aceitar isso? #TudoArmado #eleicoes #Bolsonaro #Eleicao #Corrupcao>, <Tweet id=1575141539940110337 text=Eu no dia da eleição! 😂🤭😂 \n",
              "vocês vão #MandarVer em quem?! 🚨🚨🚨 #eleicoes2022 #eleicoes #eleicao #eleicao2022 #lula2022 #bolsonaro2022 https://t.co/ORlVp7qWbJ>, <Tweet id=1575140950426402819 text=#academiapaulistadeletras #parlamento #congresso #congresssonacional #politicabrasileira #eleicoes2022 #eleicao2022 #eleição #brasil #voteconsciente>, <Tweet id=1575136593576398850 text=💬 O vídeo está em posse da campanha de Lula (PT), que fará o uso da gravação. \n",
              "\n",
              "#OPoder #compartilhe #brasil #eleições2022 #eleição \n",
              "\n",
              "https://t.co/IDFLtKZDRe>, <Tweet id=1575135433092104194 text=#OPoder #eleições2022 #eleição #jairbolsonaro #bolsonaro #brasil #alexandredemoraes>, <Tweet id=1575134658253230081 text=Agora é mais 5️⃣0️⃣0️⃣\n",
              "#Senador #Senado #Senador500 #Eleicoes #Eleicao #Brasil #BrasilDaEsperanca #Politica \n",
              "@alexandrepsol https://t.co/r7qxLarjSU>, <Tweet id=1575130016798724097 text=💬 O empreendimento é de propriedade do candidato a deputado federal Babalu (Solidariedade). \n",
              "\n",
              "#OPoder #compartilhe #amazonas #eleições2022 #eleição \n",
              "https://t.co/sRIsMh11jI>, <Tweet id=1575128967014760448 text=🏀 5 Olimpíadas no currículo! Medalha de bronze nas Olimpíadas de Sidney em 2000! \n",
              "\n",
              "Obrigado pelo apoio e pelo enorme respeito, Adrianinha\n",
              "\n",
              "Conte sempre comigo! \n",
              "\n",
              "#olimpiadas #basquete #apoio #eleicao #deputado #compromisso https://t.co/OvQnMmGJfE>], includes={'users': [<User id=1298437312741875713 name=Rank Político & Econômico username=Rogrio74117181>, <User id=1328371273832026112 name=Prefeitura de São Leopoldo username=prefasaoleo>, <User id=969028465700888577 name=Gabriel Cruz username=ItsGabrielCruz>, <User id=117089350 name=PIXTV HD username=pixtvhd>, <User id=923328852079898624 name=Andréa Cristina username=AndraCr96325336>, <User id=57855276 name=Gustavo Martins username=gustavodmartins>, <User id=1574776022830039040 name=Damásio Rio de Janeiro username=damasio_rj>, <User id=1241018077745221635 name=Portal O Poder username=_portalopoder>, <User id=26573303 name=Rádio BandNews FM username=radiobandnewsfm>, <User id=1344053783022678019 name=Professor 10DEZ 🇧🇷🩸 username=Professor10Dez>, <User id=17598409 name=DIARINHO username=DIARINHO>, <User id=1531312878 name=MobPonto username=mobponto>, <User id=1123189197693706240 name=Biel Divulgações username=BielDivulgaes1>, <User id=1002258711296004097 name=.... username=Claracosta220>, <User id=87829453 name=João Sarti username=joaosarti>, <User id=2370671718 name=Victor Lucas username=V1torlucas00>, <User id=1506270408567316495 name=Datapedia.info username=datapedia_info>, <User id=1548040472009928705 name=Lula13 username=Lula1339325775>, <User id=910941576129601536 name=Feito Aquarela username=FeitoAquarela>, <User id=1518950065418780672 name=Lari username=eularissa______>, <User id=38575415 name=Voss 1️⃣0️⃣4️⃣2️⃣, Maria Emilia username=MEmiliaVoss>, <User id=1532718713157435397 name=MARCOS PALHARES LEMOS username=MPalharesseg>, <User id=922234974568353793 name=BavarescoSeguros username=BavarescoSeguro>, <User id=1224673623371329536 name=Bagetti Corretora de Seguros username=bagettiseguros>, <User id=39973121 name=Grupo Meio Norte de Comunicação username=meionorte>, <User id=19352314 name=Blue Heeler Guy username=BlueHeelerGuy>, <User id=217908131 name=P R O V A e R E P R O V A🤪 username=provareprova>, <User id=57824937 name=LucianaInclusão4️⃣0️⃣1️⃣1️⃣ username=LucianaInclusao>, <User id=3297861 name=Fa Conti username=faconti>, <User id=1234951191823552514 name=Carlos Vollgan Tattoo username=CarlosVollgan>, <User id=67446097 name=Larah Vampira ❤️‍🔥🦇 username=LarahVampira>, <User id=1254576573522546689 name=Márcia Oliver2️⃣2️⃣ #NaoAoPassaporteDaSegregacao username=MARCIA72425706>, <User id=2391012232 name=Ricardo Ramos username=prricardoramos>, <User id=1062035185791918080 name=Ígor Natividade username=igorNatividad>, <User id=462053600 name=Marcelo Pinheiro username=MarPinus>, <User id=1512593785334771715 name=Fabiano Bellati username=bellati_fabiano>, <User id=1306188062284800001 name=Henrique Heffley username=HeffleyRaphael>, <User id=78807310 name=O Alto Acre username=oaltoacre>, <User id=1428427211028287489 name=Blog do Hiel Levy username=blogdohiel>, <User id=23052367 name=Alexandre Faustino username=ale_faustino>, <User id=1564546309 name=RevistaDireitoPráxis username=DireitoePraxis>, <User id=949013279472484352 name=Jornal OSollo username=jornalosollo>, <User id=1447854528884363267 name=Resumo da Imprensa username=resumo_imprensa>, <User id=1471663743381745668 name=Pepyaka Krikati username=pepyaka_krikati>, <User id=2613462672 name=Crypto ID® username=portalcryptoid>, <User id=727258944763224064 name=Alê Ribeiro username=profvitoria1535>, <User id=32276246 name=Caíque Guirao username=caaaaique>, <User id=506317484 name=Jubileu Sul Brasil username=JubileuSul>, <User id=744862819103965184 name=Conselho Regional de Farmácia de Minas Gerais username=CRFMinas>, <User id=1538998360652251140 name=Projeto Liberal Renovador username=PLRenovador>, <User id=9018312 name=Criativo de Galochas, Marcus username=CGalochas>, <User id=1311706651150503936 name=SCC SBT username=sccsbtoficial>, <User id=358737104 name=Danyllo Bueno username=bueno_danyllo>, <User id=2911411251 name=Ⓜ️☘️🔰Simone S. Silva🔰☘️ username=SimoneSS1971>, <User id=1372912694110601222 name=Diegok username=Diegok52591204>, <User id=1686641227 name=Adriana Borges 1404 BH username=adrianaborgesbh>, <User id=1133512630902173696 name=Jefix username=Jefix_oficial_>, <User id=278128809 name=YOHAN 🇧🇷🇯🇵🇺🇸 username=officialyohan>, <User id=59106832 name=Renato Nalini username=renatonalini>, <User id=133889106 name=Isaías CS username=Isaias_CS>, <User id=69160303 name=Diego Pérez username=1perezdiego>]}, errors=[], meta={'newest_id': '1575535277984124928', 'oldest_id': '1575128967014760448', 'result_count': 100, 'next_token': 'b26v89c19zqg8o3fpzblroo062ofjpfb99nvb7jh8d5dp'})"
            ]
          },
          "execution_count": 84,
          "metadata": {},
          "output_type": "execute_result"
        }
      ],
      "source": [
        "response"
      ]
    },
    {
      "cell_type": "markdown",
      "metadata": {
        "id": "PrSQPAvgRjdK"
      },
      "source": []
    },
    {
      "cell_type": "markdown",
      "metadata": {
        "id": "MydXc5M7CjLa"
      },
      "source": [
        "#Estruturando os dados coletados"
      ]
    },
    {
      "cell_type": "markdown",
      "metadata": {
        "id": "XiYRr0pM15_L"
      },
      "source": [
        "Para entendermos o próximo passo, devemos analisar a estruturação dos dados que obtivemos como resposta.\n",
        "Exemplo:"
      ]
    },
    {
      "cell_type": "code",
      "execution_count": null,
      "metadata": {
        "id": "PA-q3Jgo2yur"
      },
      "outputs": [],
      "source": [
        "  # \"data\": [\n",
        "  #   {\n",
        "  #     \"id\": \"1263150595717730305\",\n",
        "  #     \"author_id\": \"2244994945\",\n",
        "  #     \"text\": \"Do you 👀our new Tweet settings?\\n\\nWe want to know how and why you’d use a feature like this in the API. Get the details and let us know what you think👇\\nhttps://t.co/RtMhhfAcIB https://t.co/8wxeZ9fJER\",\n",
        "  #     \"public_metrics\": {\n",
        "  #       \"retweet_count\": 12,\n",
        "  #       \"reply_count\": 13,\n",
        "  #       \"like_count\": 51,\n",
        "  #       \"quote_count\": 7\n",
        "  #     }\n",
        "  #   }\n",
        "  # ],\n",
        "  # \"includes\": {\n",
        "  #   \"users\": [\n",
        "  #     {\n",
        "  #       \"id\": \"2244994945\",\n",
        "  #       \"username\": \"TwitterDev\",\n",
        "  #       \"description\": \"The voice of the #TwitterDev team and your official source for updates, news, and events, related to the #TwitterAPI.\",\n",
        "  #       \"name\": \"Twitter Dev\"\n",
        "  #     }\n",
        "  #   ]\n",
        "  }\n"
      ]
    },
    {
      "cell_type": "markdown",
      "metadata": {
        "id": "O3h1kd6U3h_L"
      },
      "source": [
        "Como podemos observar \"author_id\" e \"text\" estão contidos em 'data' e todos os outros campos estão contidos em 'includes'. Para cada propriedade criamos uma lista para serem preenchidas com um laço. E para os campos de usuários que estao dentro de 'includes', criaremos um dicionário."
      ]
    },
    {
      "cell_type": "code",
      "execution_count": 66,
      "metadata": {
        "id": "79ZW01yKzxUq"
      },
      "outputs": [],
      "source": [
        "localizacao =[]\n",
        "textos = []\n",
        "creat_at = []\n",
        "user_id = []"
      ]
    },
    {
      "cell_type": "code",
      "execution_count": 68,
      "metadata": {
        "id": "4om5v82Rz0pJ"
      },
      "outputs": [],
      "source": [
        "users = {u['id'] : u for u in response.includes['users']}\n",
        "#Por response.includes['users'] temos acesso aos dados do usuário como vemos na estrutura dos dados de response:\n",
        "  # \"includes\": {\n",
        "  #   \"users\": [\n",
        "  #     {\n",
        "  #       \"id\": \"2244994945\",\n",
        "  #       \"username\": \"TwitterDev\",\n",
        "# Utilizando list cromprehension vamos preencher um dicionário onde 'u' é cada informação do usuário e tendo como chave do dicionário o seu id."
      ]
    },
    {
      "cell_type": "code",
      "execution_count": 69,
      "metadata": {
        "colab": {
          "base_uri": "https://localhost:8080/"
        },
        "id": "YmAa-wsh7Dqs",
        "outputId": "55e70680-0f45-455e-a05c-4037207916d4"
      },
      "outputs": [
        {
          "data": {
            "text/plain": [
              "{1241018077745221635: <User id=1241018077745221635 name=Portal O Poder username=_portalopoder>,\n",
              " 1123189197693706240: <User id=1123189197693706240 name=Biel Divulgações username=BielDivulgaes1>,\n",
              " 1002258711296004097: <User id=1002258711296004097 name=.... username=Claracosta220>,\n",
              " 1575323946240679937: <User id=1575323946240679937 name=Indecisos 1️⃣3️⃣ 🤖 username=indecisos2022>,\n",
              " 1249342625620144131: <User id=1249342625620144131 name=Rose username=Rose22537013>,\n",
              " 253982124: <User id=253982124 name=ElisetePenaOliveira username=ElisetePena>,\n",
              " 26573303: <User id=26573303 name=Rádio BandNews FM username=radiobandnewsfm>,\n",
              " 87829453: <User id=87829453 name=João Sarti username=joaosarti>,\n",
              " 2370671718: <User id=2370671718 name=Victor Lucas username=V1torlucas00>,\n",
              " 961781986003177478: <User id=961781986003177478 name=Gabriel Tussini username=gabrieltussini>,\n",
              " 1506270408567316495: <User id=1506270408567316495 name=Datapedia.info username=datapedia_info>,\n",
              " 1548040472009928705: <User id=1548040472009928705 name=Lula13 username=Lula1339325775>,\n",
              " 910941576129601536: <User id=910941576129601536 name=Feito Aquarela username=FeitoAquarela>,\n",
              " 1518950065418780672: <User id=1518950065418780672 name=Lari username=eularissa______>,\n",
              " 38575415: <User id=38575415 name=Voss 1️⃣0️⃣4️⃣2️⃣, Maria Emilia username=MEmiliaVoss>,\n",
              " 1532718713157435397: <User id=1532718713157435397 name=MARCOS PALHARES LEMOS username=MPalharesseg>,\n",
              " 1195092746412994579: <User id=1195092746412994579 name=Eri username=EriNascimento4>,\n",
              " 922234974568353793: <User id=922234974568353793 name=BavarescoSeguros username=BavarescoSeguro>,\n",
              " 1224673623371329536: <User id=1224673623371329536 name=Bagetti Corretora de Seguros username=bagettiseguros>,\n",
              " 39973121: <User id=39973121 name=Grupo Meio Norte de Comunicação username=meionorte>,\n",
              " 1483262048091918337: <User id=1483262048091918337 name=🏁🌪🌊 username=sirius0666>,\n",
              " 1567683057796190209: <User id=1567683057796190209 name=laudilina username=laudilina32>,\n",
              " 1043615581973499904: <User id=1043615581973499904 name=Dama de Ferro username=Damadeferroofic>,\n",
              " 19352314: <User id=19352314 name=Blue Heeler Guy username=BlueHeelerGuy>,\n",
              " 217908131: <User id=217908131 name=P R O V A e R E P R O V A🤪 username=provareprova>,\n",
              " 57824937: <User id=57824937 name=LucianaInclusão4️⃣0️⃣1️⃣1️⃣ username=LucianaInclusao>,\n",
              " 1554846979: <User id=1554846979 name=yehoshua sade username=yehoshuasade>,\n",
              " 3297861: <User id=3297861 name=Fa Conti username=faconti>,\n",
              " 1541622264612921344: <User id=1541622264612921344 name=Dermeval Calógeras username=DCalogeras>,\n",
              " 1234951191823552514: <User id=1234951191823552514 name=Carlos Vollgan Tattoo username=CarlosVollgan>,\n",
              " 67446097: <User id=67446097 name=Larah Vampira ❤️‍🔥🦇 username=LarahVampira>,\n",
              " 1559350464105197568: <User id=1559350464105197568 name=Andre Bolsonaro 2️⃣2️⃣🇧🇷🇺🇸 username=AndreSchaumburg>,\n",
              " 842540283963346944: <User id=842540283963346944 name=Dave username=bancow48>,\n",
              " 472497208: <User id=472497208 name=Érica Ferrari username=EricaFDTorre>,\n",
              " 886667497163902980: <User id=886667497163902980 name=Giovanni Nogueira 🇵🇹🇺🇸♒ username=GiovanniNogue12>,\n",
              " 1254576573522546689: <User id=1254576573522546689 name=Márcia Oliver2️⃣2️⃣ #NaoAoPassaporteDaSegregacao username=MARCIA72425706>,\n",
              " 2361135805: <User id=2361135805 name=Luciana Martins username=LucianaMar80>,\n",
              " 2391012232: <User id=2391012232 name=Ricardo Ramos username=prricardoramos>,\n",
              " 1062035185791918080: <User id=1062035185791918080 name=Ígor Natividade username=igorNatividad>,\n",
              " 462053600: <User id=462053600 name=Marcelo Pinheiro username=MarPinus>,\n",
              " 1512593785334771715: <User id=1512593785334771715 name=Fabiano Bellati username=bellati_fabiano>,\n",
              " 117089350: <User id=117089350 name=PIXTV HD username=pixtvhd>,\n",
              " 17598409: <User id=17598409 name=DIARINHO username=DIARINHO>,\n",
              " 1413282983587504130: <User id=1413282983587504130 name=Nandinha username=Nandinh14501643>,\n",
              " 1502431524834136064: <User id=1502431524834136064 name=Silvia cortez Cortez username=SilviacortezCo4>,\n",
              " 1262580456840671232: <User id=1262580456840671232 name=Gi Růžička 🇧🇷Gisele Růžička username=RuzickaGisele>,\n",
              " 366106832: <User id=366106832 name=Lobé 🇧🇷 2️⃣2️⃣ username=Luiz_Howard>,\n",
              " 1306188062284800001: <User id=1306188062284800001 name=Henrique Heffley username=HeffleyRaphael>,\n",
              " 2466250004: <User id=2466250004 name=Aço Lyonel username=AcoLyonel>,\n",
              " 2337478316: <User id=2337478316 name=@Natanael_RL username=Natanael_RL>,\n",
              " 1570952217766535168: <User id=1570952217766535168 name=Silvia cortez Cortez e Silva username=SilviacortezCo6>,\n",
              " 78807310: <User id=78807310 name=O Alto Acre username=oaltoacre>,\n",
              " 1498726537: <User id=1498726537 name=Tuni Duailibi username=TuniDuailibi>,\n",
              " 1428427211028287489: <User id=1428427211028287489 name=Blog do Hiel Levy username=blogdohiel>,\n",
              " 23052367: <User id=23052367 name=Alexandre Faustino username=ale_faustino>,\n",
              " 1564546309: <User id=1564546309 name=RevistaDireitoPráxis username=DireitoePraxis>,\n",
              " 949013279472484352: <User id=949013279472484352 name=Jornal OSollo username=jornalosollo>,\n",
              " 1447854528884363267: <User id=1447854528884363267 name=Resumo da Imprensa username=resumo_imprensa>,\n",
              " 1471663743381745668: <User id=1471663743381745668 name=Pepyaka Krikati username=pepyaka_krikati>,\n",
              " 2613462672: <User id=2613462672 name=Crypto ID® username=portalcryptoid>,\n",
              " 727258944763224064: <User id=727258944763224064 name=Alê Ribeiro username=profvitoria1535>,\n",
              " 32276246: <User id=32276246 name=Caíque Guirao username=caaaaique>,\n",
              " 506317484: <User id=506317484 name=Jubileu Sul Brasil username=JubileuSul>,\n",
              " 744862819103965184: <User id=744862819103965184 name=Conselho Regional de Farmácia de Minas Gerais username=CRFMinas>,\n",
              " 715364459099856896: <User id=715364459099856896 name=DEMOCRACIA username=odio_nao>,\n",
              " 1538998360652251140: <User id=1538998360652251140 name=Projeto Liberal Renovador username=PLRenovador>,\n",
              " 9018312: <User id=9018312 name=Criativo de Galochas, Marcus username=CGalochas>,\n",
              " 1311706651150503936: <User id=1311706651150503936 name=SCC SBT username=sccsbtoficial>,\n",
              " 1641713372: <User id=1641713372 name=Ronaldo Mourao username=GPronaldo13>,\n",
              " 1300877531458002945: <User id=1300877531458002945 name=2️⃣2️⃣ Nádia Baptistella 🇧🇷🇧🇷🇧🇷🇧🇷 username=NdiaBaptistell3>,\n",
              " 1521688957720965120: <User id=1521688957720965120 name=Edu username=Edu64986869>,\n",
              " 358737104: <User id=358737104 name=Danyllo Bueno username=bueno_danyllo>,\n",
              " 2911411251: <User id=2911411251 name=Ⓜ️☘️🔰Simone S. Silva🔰☘️ username=SimoneSS1971>}"
            ]
          },
          "execution_count": 69,
          "metadata": {},
          "output_type": "execute_result"
        }
      ],
      "source": [
        "users"
      ]
    },
    {
      "cell_type": "code",
      "execution_count": 70,
      "metadata": {
        "id": "V5R-XdNtz6Kb"
      },
      "outputs": [],
      "source": [
        "for tweet in response.data:\n",
        "# Com o dicionário com as informações dos usuários criado, podemos mapear essas informações utizando\n",
        "# o id do usuário que também esta presente na variável  que criamos no laço 'tweet'.\n",
        "  if users[tweet.author_id]:\n",
        "    user = users[tweet.author_id]\n",
        "    localizacao.append(user.location)\n",
        "# As outras informações estão contidas na variável tweet  \n",
        "  user_id.append(tweet.author_id)\n",
        "  textos.append(tweet.text)\n",
        "  creat_at.append(tweet.created_at)"
      ]
    },
    {
      "cell_type": "markdown",
      "metadata": {
        "id": "bXqLGfAE-Bn1"
      },
      "source": [
        "#Criando um Data Frame"
      ]
    },
    {
      "cell_type": "markdown",
      "metadata": {
        "id": "j-GCwkJm-O_L"
      },
      "source": [
        "Agora é só criar um data frame utilizando as listas preenchidas com as informações."
      ]
    },
    {
      "cell_type": "code",
      "execution_count": 71,
      "metadata": {
        "id": "K52QmanT1FKj"
      },
      "outputs": [],
      "source": [
        "df =pd.DataFrame({'Textos' : textos, 'user_id': user_id, 'Criado em': creat_at, \"Localidade\" : localizacao})"
      ]
    },
    {
      "cell_type": "code",
      "execution_count": 72,
      "metadata": {
        "colab": {
          "base_uri": "https://localhost:8080/",
          "height": 423
        },
        "id": "26t0FH8q1N-K",
        "outputId": "4a33c495-dae6-48cd-f6e6-7e5262e36a5d"
      },
      "outputs": [
        {
          "data": {
            "text/html": [
              "\n",
              "  <div id=\"df-a56fd606-5830-4573-813d-b2c606147e7d\">\n",
              "    <div class=\"colab-df-container\">\n",
              "      <div>\n",
              "<style scoped>\n",
              "    .dataframe tbody tr th:only-of-type {\n",
              "        vertical-align: middle;\n",
              "    }\n",
              "\n",
              "    .dataframe tbody tr th {\n",
              "        vertical-align: top;\n",
              "    }\n",
              "\n",
              "    .dataframe thead th {\n",
              "        text-align: right;\n",
              "    }\n",
              "</style>\n",
              "<table border=\"1\" class=\"dataframe\">\n",
              "  <thead>\n",
              "    <tr style=\"text-align: right;\">\n",
              "      <th></th>\n",
              "      <th>Textos</th>\n",
              "      <th>user_id</th>\n",
              "      <th>Criado em</th>\n",
              "      <th>Localidade</th>\n",
              "    </tr>\n",
              "  </thead>\n",
              "  <tbody>\n",
              "    <tr>\n",
              "      <th>0</th>\n",
              "      <td>No momento do incidente, a câmera estava direc...</td>\n",
              "      <td>1241018077745221635</td>\n",
              "      <td>2022-09-29 16:03:04+00:00</td>\n",
              "      <td>Manaus, Brasil</td>\n",
              "    </tr>\n",
              "    <tr>\n",
              "      <th>1</th>\n",
              "      <td>💬 Conforme vídeo divulgado nas redes sociais, ...</td>\n",
              "      <td>1241018077745221635</td>\n",
              "      <td>2022-09-29 15:54:33+00:00</td>\n",
              "      <td>Manaus, Brasil</td>\n",
              "    </tr>\n",
              "    <tr>\n",
              "      <th>2</th>\n",
              "      <td>ZÉ FELIPE CANCELA SHOWS POR FALTA DE LOTAÇÃO? ...</td>\n",
              "      <td>1123189197693706240</td>\n",
              "      <td>2022-09-29 15:43:42+00:00</td>\n",
              "      <td>None</td>\n",
              "    </tr>\n",
              "    <tr>\n",
              "      <th>3</th>\n",
              "      <td>Vamos deixar de ser o País do futebol para ser...</td>\n",
              "      <td>1002258711296004097</td>\n",
              "      <td>2022-09-29 15:07:09+00:00</td>\n",
              "      <td>Nova Iorque, USA</td>\n",
              "    </tr>\n",
              "    <tr>\n",
              "      <th>4</th>\n",
              "      <td>RT @em_com: DEBATE DA GLOBO\\nAlexandre Kalil (...</td>\n",
              "      <td>1575323946240679937</td>\n",
              "      <td>2022-09-29 15:00:34+00:00</td>\n",
              "      <td>Brazil</td>\n",
              "    </tr>\n",
              "    <tr>\n",
              "      <th>...</th>\n",
              "      <td>...</td>\n",
              "      <td>...</td>\n",
              "      <td>...</td>\n",
              "      <td>...</td>\n",
              "    </tr>\n",
              "    <tr>\n",
              "      <th>95</th>\n",
              "      <td>RT @em_com: DEBATE DA GLOBO\\nAlexandre Kalil (...</td>\n",
              "      <td>1521688957720965120</td>\n",
              "      <td>2022-09-28 16:25:19+00:00</td>\n",
              "      <td>JF/MG</td>\n",
              "    </tr>\n",
              "    <tr>\n",
              "      <th>96</th>\n",
              "      <td>#evangelho #política #eleição #BolsonaroReelei...</td>\n",
              "      <td>358737104</td>\n",
              "      <td>2022-09-28 16:16:14+00:00</td>\n",
              "      <td>Brazil</td>\n",
              "    </tr>\n",
              "    <tr>\n",
              "      <th>97</th>\n",
              "      <td>Acesse o site https://t.co/xN9lqBDsjj e escolh...</td>\n",
              "      <td>2911411251</td>\n",
              "      <td>2022-09-28 16:03:29+00:00</td>\n",
              "      <td>None</td>\n",
              "    </tr>\n",
              "    <tr>\n",
              "      <th>98</th>\n",
              "      <td>😊COPO PARA MILK SHAKE 300 ML CONJ. 2 UNID.😊\\n\\...</td>\n",
              "      <td>910941576129601536</td>\n",
              "      <td>2022-09-28 15:58:27+00:00</td>\n",
              "      <td>Av. Winston Churchill 539</td>\n",
              "    </tr>\n",
              "    <tr>\n",
              "      <th>99</th>\n",
              "      <td>Venha participar do caça-palavras da inclusão!...</td>\n",
              "      <td>57824937</td>\n",
              "      <td>2022-09-28 15:56:52+00:00</td>\n",
              "      <td>SP/Brasil</td>\n",
              "    </tr>\n",
              "  </tbody>\n",
              "</table>\n",
              "<p>100 rows × 4 columns</p>\n",
              "</div>\n",
              "      <button class=\"colab-df-convert\" onclick=\"convertToInteractive('df-a56fd606-5830-4573-813d-b2c606147e7d')\"\n",
              "              title=\"Convert this dataframe to an interactive table.\"\n",
              "              style=\"display:none;\">\n",
              "        \n",
              "  <svg xmlns=\"http://www.w3.org/2000/svg\" height=\"24px\"viewBox=\"0 0 24 24\"\n",
              "       width=\"24px\">\n",
              "    <path d=\"M0 0h24v24H0V0z\" fill=\"none\"/>\n",
              "    <path d=\"M18.56 5.44l.94 2.06.94-2.06 2.06-.94-2.06-.94-.94-2.06-.94 2.06-2.06.94zm-11 1L8.5 8.5l.94-2.06 2.06-.94-2.06-.94L8.5 2.5l-.94 2.06-2.06.94zm10 10l.94 2.06.94-2.06 2.06-.94-2.06-.94-.94-2.06-.94 2.06-2.06.94z\"/><path d=\"M17.41 7.96l-1.37-1.37c-.4-.4-.92-.59-1.43-.59-.52 0-1.04.2-1.43.59L10.3 9.45l-7.72 7.72c-.78.78-.78 2.05 0 2.83L4 21.41c.39.39.9.59 1.41.59.51 0 1.02-.2 1.41-.59l7.78-7.78 2.81-2.81c.8-.78.8-2.07 0-2.86zM5.41 20L4 18.59l7.72-7.72 1.47 1.35L5.41 20z\"/>\n",
              "  </svg>\n",
              "      </button>\n",
              "      \n",
              "  <style>\n",
              "    .colab-df-container {\n",
              "      display:flex;\n",
              "      flex-wrap:wrap;\n",
              "      gap: 12px;\n",
              "    }\n",
              "\n",
              "    .colab-df-convert {\n",
              "      background-color: #E8F0FE;\n",
              "      border: none;\n",
              "      border-radius: 50%;\n",
              "      cursor: pointer;\n",
              "      display: none;\n",
              "      fill: #1967D2;\n",
              "      height: 32px;\n",
              "      padding: 0 0 0 0;\n",
              "      width: 32px;\n",
              "    }\n",
              "\n",
              "    .colab-df-convert:hover {\n",
              "      background-color: #E2EBFA;\n",
              "      box-shadow: 0px 1px 2px rgba(60, 64, 67, 0.3), 0px 1px 3px 1px rgba(60, 64, 67, 0.15);\n",
              "      fill: #174EA6;\n",
              "    }\n",
              "\n",
              "    [theme=dark] .colab-df-convert {\n",
              "      background-color: #3B4455;\n",
              "      fill: #D2E3FC;\n",
              "    }\n",
              "\n",
              "    [theme=dark] .colab-df-convert:hover {\n",
              "      background-color: #434B5C;\n",
              "      box-shadow: 0px 1px 3px 1px rgba(0, 0, 0, 0.15);\n",
              "      filter: drop-shadow(0px 1px 2px rgba(0, 0, 0, 0.3));\n",
              "      fill: #FFFFFF;\n",
              "    }\n",
              "  </style>\n",
              "\n",
              "      <script>\n",
              "        const buttonEl =\n",
              "          document.querySelector('#df-a56fd606-5830-4573-813d-b2c606147e7d button.colab-df-convert');\n",
              "        buttonEl.style.display =\n",
              "          google.colab.kernel.accessAllowed ? 'block' : 'none';\n",
              "\n",
              "        async function convertToInteractive(key) {\n",
              "          const element = document.querySelector('#df-a56fd606-5830-4573-813d-b2c606147e7d');\n",
              "          const dataTable =\n",
              "            await google.colab.kernel.invokeFunction('convertToInteractive',\n",
              "                                                     [key], {});\n",
              "          if (!dataTable) return;\n",
              "\n",
              "          const docLinkHtml = 'Like what you see? Visit the ' +\n",
              "            '<a target=\"_blank\" href=https://colab.research.google.com/notebooks/data_table.ipynb>data table notebook</a>'\n",
              "            + ' to learn more about interactive tables.';\n",
              "          element.innerHTML = '';\n",
              "          dataTable['output_type'] = 'display_data';\n",
              "          await google.colab.output.renderOutput(dataTable, element);\n",
              "          const docLink = document.createElement('div');\n",
              "          docLink.innerHTML = docLinkHtml;\n",
              "          element.appendChild(docLink);\n",
              "        }\n",
              "      </script>\n",
              "    </div>\n",
              "  </div>\n",
              "  "
            ],
            "text/plain": [
              "                                               Textos              user_id  \\\n",
              "0   No momento do incidente, a câmera estava direc...  1241018077745221635   \n",
              "1   💬 Conforme vídeo divulgado nas redes sociais, ...  1241018077745221635   \n",
              "2   ZÉ FELIPE CANCELA SHOWS POR FALTA DE LOTAÇÃO? ...  1123189197693706240   \n",
              "3   Vamos deixar de ser o País do futebol para ser...  1002258711296004097   \n",
              "4   RT @em_com: DEBATE DA GLOBO\\nAlexandre Kalil (...  1575323946240679937   \n",
              "..                                                ...                  ...   \n",
              "95  RT @em_com: DEBATE DA GLOBO\\nAlexandre Kalil (...  1521688957720965120   \n",
              "96  #evangelho #política #eleição #BolsonaroReelei...            358737104   \n",
              "97  Acesse o site https://t.co/xN9lqBDsjj e escolh...           2911411251   \n",
              "98  😊COPO PARA MILK SHAKE 300 ML CONJ. 2 UNID.😊\\n\\...   910941576129601536   \n",
              "99  Venha participar do caça-palavras da inclusão!...             57824937   \n",
              "\n",
              "                   Criado em                 Localidade  \n",
              "0  2022-09-29 16:03:04+00:00             Manaus, Brasil  \n",
              "1  2022-09-29 15:54:33+00:00             Manaus, Brasil  \n",
              "2  2022-09-29 15:43:42+00:00                       None  \n",
              "3  2022-09-29 15:07:09+00:00           Nova Iorque, USA  \n",
              "4  2022-09-29 15:00:34+00:00                     Brazil  \n",
              "..                       ...                        ...  \n",
              "95 2022-09-28 16:25:19+00:00                      JF/MG  \n",
              "96 2022-09-28 16:16:14+00:00                     Brazil  \n",
              "97 2022-09-28 16:03:29+00:00                       None  \n",
              "98 2022-09-28 15:58:27+00:00  Av. Winston Churchill 539  \n",
              "99 2022-09-28 15:56:52+00:00                  SP/Brasil  \n",
              "\n",
              "[100 rows x 4 columns]"
            ]
          },
          "execution_count": 72,
          "metadata": {},
          "output_type": "execute_result"
        }
      ],
      "source": [
        "df"
      ]
    },
    {
      "cell_type": "markdown",
      "metadata": {
        "id": "v0qq8OyZTa27"
      },
      "source": [
        "#Busca com resposta que contenha mais que 100 tweets.\n",
        "Assim como na API V1 também é possivel fazer uma coleta com um retorno maior que 100 tweets em uma única busca. Client.paginator na API V2 faz a mesma função que o api.Cursor na API V1.\n",
        "Ao utilizar esse método nao é possivel utilizar 'user_fields', pois como vimos acima, essa parte dos dados ficam em 'includes' e essa porção não é retornada ao usar flatten(). Por isso as opções de propriedades de coleta de dados são menores."
      ]
    },
    {
      "cell_type": "code",
      "execution_count": 139,
      "metadata": {
        "id": "TgSanc4ETs4Y"
      },
      "outputs": [],
      "source": [
        "tweets = tw.Paginator(client.search_recent_tweets, query = \"Eleição -is:retweet\", tweet_fields = ['author_id', 'created_at'],\n",
        "                          place_fields=['place_type', 'geo'],\n",
        "                         max_results = 100).flatten(limit = 300)"
      ]
    },
    {
      "cell_type": "code",
      "execution_count": null,
      "metadata": {
        "colab": {
          "base_uri": "https://localhost:8080/"
        },
        "id": "NiILa_s7YVTi",
        "outputId": "755688fa-0297-4eb0-c7c9-3d0a58459478"
      },
      "outputs": [],
      "source": [
        "for i in tweets:\n",
        "  print(i.text)"
      ]
    }
  ],
  "metadata": {
    "colab": {
      "collapsed_sections": [],
      "provenance": []
    },
    "kernelspec": {
      "display_name": "Python 3",
      "name": "python3"
    },
    "language_info": {
      "name": "python"
    }
  },
  "nbformat": 4,
  "nbformat_minor": 0
}
